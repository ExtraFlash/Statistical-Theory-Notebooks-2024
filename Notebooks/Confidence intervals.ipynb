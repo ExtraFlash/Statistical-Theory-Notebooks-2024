{
 "cells": [
  {
   "cell_type": "markdown",
   "id": "bdd987e5",
   "metadata": {},
   "source": [
    "# Confidence intervals"
   ]
  },
  {
   "cell_type": "code",
   "execution_count": 1,
   "id": "77f98a23",
   "metadata": {},
   "outputs": [],
   "source": [
    "import numpy as np\n",
    "from scipy import stats\n",
    "from matplotlib import pyplot as plt"
   ]
  },
  {
   "cell_type": "markdown",
   "id": "3ba0e07a",
   "metadata": {},
   "source": [
    "### Generate normal data"
   ]
  },
  {
   "cell_type": "code",
   "execution_count": 2,
   "id": "a197eb00",
   "metadata": {},
   "outputs": [],
   "source": [
    "# Generate some sample data (normally distributed)\n",
    "np.random.seed(42)  # for reproducibility\n",
    "sample_size = 1200\n",
    "mu = 50\n",
    "sigma = 10\n",
    "data = np.random.normal(loc=mu, scale=sigma, size=sample_size)  # mu is 50, sigma is 10"
   ]
  },
  {
   "cell_type": "code",
   "execution_count": 3,
   "id": "b6146d7a",
   "metadata": {
    "scrolled": true
   },
   "outputs": [
    {
     "data": {
      "text/plain": [
       "array([54.96714153, 48.61735699, 56.47688538, ..., 55.52489954,\n",
       "       52.23914134, 63.6414043 ])"
      ]
     },
     "execution_count": 3,
     "metadata": {},
     "output_type": "execute_result"
    }
   ],
   "source": [
    "data"
   ]
  },
  {
   "cell_type": "code",
   "execution_count": 4,
   "id": "ab1f2c61",
   "metadata": {
    "scrolled": false
   },
   "outputs": [
    {
     "data": {
      "image/png": "[encoded data removed]",
      "text/plain": [
       "<Figure size 640x480 with 1 Axes>"
      ]
     },
     "metadata": {},
     "output_type": "display_data"
    }
   ],
   "source": [
    "import matplotlib.pyplot as plt\n",
    "\n",
    "# histogram of our data (in blue)\n",
    "count, bins, ignored = plt.hist(data, 30, density=True)\n",
    "\n",
    "# actual plot of distribution (in red)\n",
    "plt.plot(bins, 1/(sigma * np.sqrt(2 * np.pi)) *\n",
    "               np.exp( - (bins - mu)**2 / (2 * sigma**2) ),\n",
    "         linewidth=2, color='r')\n",
    "plt.show()"
   ]
  },
  {
   "cell_type": "markdown",
   "id": "1122b2c2",
   "metadata": {},
   "source": [
    "## Confidence interval for mu"
   ]
  },
  {
   "cell_type": "code",
   "execution_count": 5,
   "id": "84339d19",
   "metadata": {},
   "outputs": [
    {
     "name": "stdout",
     "output_type": "stream",
     "text": [
      "0.2853251621642691\n",
      "0.28520625190189947\n",
      "0.2853251621642691\n"
     ]
    }
   ],
   "source": [
    "s1 = np.std(data, ddof=1) / np.sqrt(sample_size)\n",
    "s2 = np.std(data, ddof=0) / np.sqrt(sample_size)\n",
    "s3 = stats.sem(data)\n",
    "print(s1)\n",
    "print(s2)\n",
    "print(s3)"
   ]
  },
  {
   "cell_type": "markdown",
   "id": "100df72e",
   "metadata": {},
   "source": [
    "### Assuming we know sigma=10"
   ]
  },
  {
   "cell_type": "code",
   "execution_count": 6,
   "id": "d4d3c690",
   "metadata": {},
   "outputs": [
    {
     "name": "stdout",
     "output_type": "stream",
     "text": [
      "49.81802929147285 50.949615025549015\n"
     ]
    }
   ],
   "source": [
    "sample_mean = np.mean(data)\n",
    "\n",
    "lower, higher = stats.norm.interval(confidence=0.95, loc=sample_mean, scale=sigma / np.sqrt(sample_size))\n",
    "# Note that scale here is the standard error (using the actual sigma)\n",
    "\n",
    "print(lower, higher)"
   ]
  },
  {
   "cell_type": "markdown",
   "id": "d0f0be5d",
   "metadata": {},
   "source": [
    "### Calculate by hand"
   ]
  },
  {
   "cell_type": "markdown",
   "id": "6dd28585",
   "metadata": {},
   "source": [
    "[$\\bar{x} - \\frac{\\sigma}{\\sqrt{n}} z_{1-\\frac{\\alpha}{2}}$, $\\bar{x} + \\frac{\\sigma}{\\sqrt{n}} z_{1-\\frac{\\alpha}{2}}$]"
   ]
  },
  {
   "cell_type": "code",
   "execution_count": 7,
   "id": "fc4567c8",
   "metadata": {},
   "outputs": [
    {
     "name": "stdout",
     "output_type": "stream",
     "text": [
      "49.81802929147285 50.949615025549015\n"
     ]
    }
   ],
   "source": [
    "import scipy\n",
    "sample_mean = np.mean(data)\n",
    "confidence_level = 0.95\n",
    "z_critical_value = scipy.stats.norm.ppf(1-(1-confidence_level) / 2) \n",
    "margin_of_error = z_critical_value * (sigma / np.sqrt(sample_size))\n",
    "lower, higher = sample_mean - margin_of_error, sample_mean + margin_of_error\n",
    "print(lower, higher)"
   ]
  },
  {
   "cell_type": "markdown",
   "id": "b9c696a5",
   "metadata": {},
   "source": [
    "### Assuming we do not know sigma"
   ]
  },
  {
   "cell_type": "code",
   "execution_count": 8,
   "id": "529b3501",
   "metadata": {},
   "outputs": [
    {
     "name": "stdout",
     "output_type": "stream",
     "text": [
      "49.82403002850487 50.94361428851699\n"
     ]
    }
   ],
   "source": [
    "sample_mean = np.mean(data)\n",
    "sample_std = np.std(data, ddof=1)\n",
    "\n",
    "lower, higher = stats.t.interval(confidence=0.95, loc=sample_mean, df = sample_size - 1,\n",
    "                                 scale = sample_std / np.sqrt(sample_size))\n",
    "\n",
    "print(lower, higher)"
   ]
  },
  {
   "cell_type": "markdown",
   "id": "7398eafb",
   "metadata": {},
   "source": [
    "# Suppose we do not know whether the samples are drawn from Normal distribution"
   ]
  },
  {
   "cell_type": "markdown",
   "id": "0941d938",
   "metadata": {},
   "source": [
    "If we have enough data, we can split it into batches of 30 or more\n",
    "\n",
    "On each batch calculate the mean\n",
    "\n",
    "Using those means as our samples"
   ]
  },
  {
   "cell_type": "markdown",
   "id": "a6a01f18",
   "metadata": {},
   "source": [
    "## Central Limit Theorem (CLT)\n",
    "\n",
    "The CLT states that the distribution of the sample mean will be approximately normal if the sample size is large enough, regardless of the underlying distribution of the data. This allows us to use normal distribution-based methods to calculate confidence intervals for the mean when the sample size is large.\n",
    "\n",
    "## Direct Use of CLT (Z Distribution)\n",
    "\n",
    "When we have a large sample size, we can directly apply the CLT and use the Z distribution to calculate confidence intervals for the mean.\n",
    "\n",
    "### Pros\n",
    "- **Simplicity**: It is straightforward and requires less computational effort.\n",
    "- **Effectiveness**: Works well for large, reasonably normal distributions.\n",
    "\n",
    "### Cons\n",
    "- **Sensitivity**: Less robust to outliers and non-normality.\n",
    "- **Sample Size**: May require larger sample sizes for accurate normal approximation.\n",
    "\n",
    "## The Batching Method\n",
    "\n",
    "To handle non-normally distributed data, we can divide the data into batches of size 30, calculate the mean for each batch, and then use these means to calculate the confidence interval. This method leverages the CLT in a more controlled manner.\n",
    "\n",
    "### Why Use the Batching Method?\n",
    "\n",
    "1. **Ensures Normality of Means**: Even if the original data is not normally distributed, the mean of each batch will be approximately normally distributed due to the CLT. This reduces potential issues with skewness or heavy tails in the original data.\n",
    "\n",
    "2. **Reduces Bias and Variance**: This method can help mitigate the effects of outliers or non-normality in the original data by averaging out the extreme values within each batch.\n",
    "\n",
    "3. **More Reliable Estimates**: The batch means are more reliably normal, and the standard error of these means can be more representative of the true population mean's standard error.\n",
    "\n",
    "### Pros\n",
    "- **Robustness**: Provides additional robustness to non-normality and outliers.\n",
    "- **Accuracy**: Ensures means are normally distributed even for highly non-normal data.\n",
    "- **Reliability**: Can provide more reliable confidence intervals in practice.\n",
    "\n",
    "### Cons\n",
    "- **Computational Effort**: More computationally intensive.\n",
    "- **Sample Size**: Reduces the effective sample size (from \\(N\\) to \\(N/30\\)).\n",
    "- **Handling**: Requires careful handling to ensure batches are of equal size.\n",
    "\n",
    "## Conclusion\n",
    "\n",
    "While the CLT theoretically allows us to ignore the distribution of the data with a sufficiently large sample, practical applications benefit from the robustness provided by the batching method. This is especially true for data with significant deviations from normality, outliers, or when the sample size, while large, is not enormous. The batching method helps to ensure the assumptions underlying the use of the normal distribution in confidence interval calculations are better met, leading to more reliable and accurate results.\n",
    "\n",
    "In summary, the batching method is an extra step to ensure robustness and accuracy, particularly useful in practical scenarios where data deviations might otherwise impact the reliability of the results.\n"
   ]
  },
  {
   "cell_type": "code",
   "execution_count": 9,
   "id": "5003cd02",
   "metadata": {},
   "outputs": [
    {
     "name": "stdout",
     "output_type": "stream",
     "text": [
      "49.7888495986529 50.97879471836896\n"
     ]
    }
   ],
   "source": [
    "# Generate a large dataset (normally distributed)\n",
    "np.random.seed(42)  # for reproducibility\n",
    "data_size = sample_size\n",
    "data = np.random.normal(loc=50, scale=10, size=data_size)\n",
    "\n",
    "# Define the batch size\n",
    "batch_size = 30\n",
    "num_batches = data_size // batch_size\n",
    "\n",
    "# Split data into batches\n",
    "batches = np.array_split(data, num_batches)\n",
    "\n",
    "# Calculate means for each batch\n",
    "batch_means = np.array([np.mean(batch) for batch in batches])\n",
    "\n",
    "overall_mean = np.mean(batch_means)\n",
    "overall_std = np.std(batch_means, ddof=1)\n",
    "\n",
    "lower, higher = stats.t.interval(confidence=0.95, loc=overall_mean, df=len(batch_means) - 1,\n",
    "                                 scale = overall_std / np.sqrt(len(batch_means)))\n",
    "\n",
    "print(lower, higher)"
   ]
  }
 ],
 "metadata": {
  "kernelspec": {
   "display_name": "Python 3 (ipykernel)",
   "language": "python",
   "name": "python3"
  },
  "language_info": {
   "codemirror_mode": {
    "name": "ipython",
    "version": 3
   },
   "file_extension": ".py",
   "mimetype": "text/x-python",
   "name": "python",
   "nbconvert_exporter": "python",
   "pygments_lexer": "ipython3",
   "version": "3.11.5"
  }
 },
 "nbformat": 4,
 "nbformat_minor": 5
}
