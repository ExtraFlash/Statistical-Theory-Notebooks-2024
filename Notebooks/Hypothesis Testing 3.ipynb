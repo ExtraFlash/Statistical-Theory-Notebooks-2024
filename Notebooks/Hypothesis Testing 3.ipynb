{
 "cells": [
  {
   "cell_type": "markdown",
   "id": "602d8f08",
   "metadata": {},
   "source": [
    "# Hypothesis Testing 3"
   ]
  },
  {
   "cell_type": "markdown",
   "id": "88ff52cd",
   "metadata": {},
   "source": [
    "Shamelessly stolen from:  \n",
    "https://github.com/eceisik/eip/blob/main/hypothesis_testing_examples.ipynb"
   ]
  },
  {
   "cell_type": "code",
   "execution_count": 2,
   "id": "cba39637",
   "metadata": {},
   "outputs": [],
   "source": [
    "import numpy as np\n",
    "from scipy import stats\n",
    "import seaborn as sns\n",
    "from matplotlib import pyplot as plt\n",
    "import pandas as pd\n",
    "pd.options.display.float_format = '{:,.4f}'.format"
   ]
  },
  {
   "cell_type": "code",
   "execution_count": 3,
   "id": "7e6dc6ca",
   "metadata": {},
   "outputs": [],
   "source": [
    "def check_normality(data, threshold=30):\n",
    "    \"\"\"\n",
    "    Perform a normality test using the Shapiro-Wilk test for small samples\n",
    "    and the Kolmogorov-Smirnov test for larger samples.\n",
    "\n",
    "    Parameters:\n",
    "    data (list or array-like): The sample data to test for normality.\n",
    "    threshold (int): The sample size threshold to switch between tests. Default is 30.\n",
    "\n",
    "    Returns:\n",
    "    test_name (str): The name of the test performed.\n",
    "    statistic (float): The test statistic.\n",
    "    p_value (float): The p-value of the test.\n",
    "    \"\"\"\n",
    "    \n",
    "    n = len(data)\n",
    "    \n",
    "    if n <= threshold:\n",
    "        test_name = \"Shapiro-Wilk\"\n",
    "        statistic, p_value = stats.shapiro(data)\n",
    "    else:\n",
    "        test_name = \"Kolmogorov-Smirnov\"\n",
    "        statistic, p_value = stats.kstest(data, 'norm', args=(np.mean(data), np.std(data)))\n",
    "    \n",
    "    print(\"p value:%.4f\" % p_value)\n",
    "    if p_value <0.05:\n",
    "        print(\"Reject null hypothesis >> The data is not normally distributed\")\n",
    "    else:\n",
    "        print(\"Fail to reject null hypothesis >> The data is normally distributed\") "
   ]
  },
  {
   "cell_type": "code",
   "execution_count": 4,
   "id": "45526932",
   "metadata": {},
   "outputs": [],
   "source": [
    "def check_variance_homogeneity(group1, group2):\n",
    "    test_stat, p_val = stats.levene(group1, group2)\n",
    "    print(\"p value:%.4f\" % p_val)\n",
    "    if p_val <0.05:\n",
    "        print(\"Reject null hypothesis >> The variances of the samples are different.\")\n",
    "    else:\n",
    "        print(\"Fail to reject null hypothesis >> The variances of the samples are same.\")"
   ]
  },
  {
   "cell_type": "markdown",
   "id": "ed1a1d79",
   "metadata": {},
   "source": [
    "## Post Hoc comparisons"
   ]
  },
  {
   "cell_type": "markdown",
   "id": "5f1fe1d4",
   "metadata": {},
   "source": [
    "## Q1.\n",
    "A pediatrician wants to see the effect of formula consumption on the average monthly weight gain (in gr) of babies. For this reason, she collected  data from three different groups. The first group is exclusively breastfed children(receives only breast milk), the second group is children who are fed with only formula and the last group is both formula and breastfed children. These data are as below \n",
    "\n",
    "\n",
    "only_breast=[794.1, 716.9, 993. , 724.7, 760.9, 908.2, 659.3 , 690.8, 768.7,\n",
    "       717.3 , 630.7, 729.5, 714.1, 810.3, 583.5, 679.9, 865.1]      \n",
    "   \n",
    "only_formula=[ 898.8,  881.2,  940.2,  966.2,  957.5, 1061.7, 1046.2,  980.4,\n",
    "        895.6,  919.7, 1074.1,  952.5,  796.3,  859.6,  871.1 , 1047.5,\n",
    "        919.1 , 1160.5,  996.9]     \n",
    "        \n",
    "both=[976.4, 656.4, 861.2, 706.8, 718.5, 717.1, 759.8, 894.6, 867.6,\n",
    "       805.6, 765.4, 800.3, 789.9, 875.3, 740. , 799.4, 790.3, 795.2 ,\n",
    "       823.6, 818.7, 926.8, 791.7, 948.3]  \n",
    "**According to this information, conduct the hypothesis testing to check whether there is a difference between the average monthly gain of these three groups by using a 0.05 significance level. If there is a significant difference, perform further analysis to find what caused the difference.  Before doing hypothesis testing, check the related assumptions. Comment on the results.**"
   ]
  },
  {
   "cell_type": "code",
   "execution_count": 5,
   "id": "8a6a8792",
   "metadata": {},
   "outputs": [],
   "source": [
    "only_breast=np.array([794.1, 716.9, 993. , 724.7, 760.9, 908.2, 659.3 , 690.8, 768.7,\n",
    "       717.3 , 630.7, 729.5, 714.1, 810.3, 583.5, 679.9, 865.1])\n",
    "\n",
    "only_formula=np.array([ 898.8,  881.2,  940.2,  966.2,  957.5, 1061.7, 1046.2,  980.4,\n",
    "        895.6,  919.7, 1074.1,  952.5,  796.3,  859.6,  871.1 , 1047.5,\n",
    "        919.1 , 1160.5,  996.9])\n",
    "\n",
    "both=np.array([976.4, 656.4, 861.2, 706.8, 718.5, 717.1, 759.8, 894.6, 867.6,\n",
    "       805.6, 765.4, 800.3, 789.9, 875.3, 740. , 799.4, 790.3, 795.2 ,\n",
    "       823.6, 818.7, 926.8, 791.7, 948.3])"
   ]
  },
  {
   "cell_type": "markdown",
   "id": "97f5ac10",
   "metadata": {},
   "source": [
    "$ H_{0} $: The data is normally distributed.  \n",
    "$ H_{1} $: The data is not normally distributed. "
   ]
  },
  {
   "cell_type": "code",
   "execution_count": 6,
   "id": "035e8123",
   "metadata": {
    "scrolled": true
   },
   "outputs": [
    {
     "name": "stdout",
     "output_type": "stream",
     "text": [
      "p value:0.4694\n",
      "Fail to reject null hypothesis >> The data is normally distributed\n",
      "p value:0.8879\n",
      "Fail to reject null hypothesis >> The data is normally distributed\n",
      "p value:0.7973\n",
      "Fail to reject null hypothesis >> The data is normally distributed\n"
     ]
    }
   ],
   "source": [
    "check_normality(only_breast)\n",
    "check_normality(only_formula)\n",
    "check_normality(both)"
   ]
  },
  {
   "cell_type": "markdown",
   "id": "d622f200",
   "metadata": {},
   "source": [
    "$H_{0}$: The variances of the samples are the same.  \n",
    "$H_{1}$: The variances of the samples are different. "
   ]
  },
  {
   "cell_type": "code",
   "execution_count": 7,
   "id": "cfd9becc",
   "metadata": {},
   "outputs": [
    {
     "name": "stdout",
     "output_type": "stream",
     "text": [
      "p value:0.7673\n",
      "Fail to reject null hypothesis >> The variances of the samples are same.\n"
     ]
    }
   ],
   "source": [
    "stat, pvalue_levene= stats.levene(only_breast,only_formula,both)\n",
    "\n",
    "print(\"p value:%.4f\" % pvalue_levene)\n",
    "if pvalue_levene <0.05:\n",
    "    print(\"Reject null hypothesis >> The variances of the samples are different.\")\n",
    "else:\n",
    "    print(\"Fail to reject null hypothesis >> The variances of the samples are same.\")"
   ]
  },
  {
   "cell_type": "markdown",
   "id": "5b83a3bc",
   "metadata": {},
   "source": [
    "$H_{0}$: $\\mu_{1}= \\mu_{2}= \\mu_{3} $ **or** The mean of the samples is the same.      \n",
    "$H_{1}$: At least one of them is different.    "
   ]
  },
  {
   "cell_type": "code",
   "execution_count": 8,
   "id": "5d7b26f6",
   "metadata": {},
   "outputs": [
    {
     "name": "stdout",
     "output_type": "stream",
     "text": [
      "p value:0.000000\n",
      "Reject null hypothesis\n"
     ]
    }
   ],
   "source": [
    "F, p_value = stats.f_oneway(only_breast,only_formula,both)\n",
    "print(\"p value:%.6f\" % p_value)\n",
    "if p_value <0.05:\n",
    "    print(\"Reject null hypothesis\")\n",
    "else:\n",
    "    print(\"Fail to reject null hypothesis\")"
   ]
  },
  {
   "cell_type": "markdown",
   "id": "3c9e302f",
   "metadata": {},
   "source": [
    "**At this significance level, it can be concluded that at least one of the groups has a different average monthly weight gain.**"
   ]
  },
  {
   "cell_type": "markdown",
   "id": "e38b4945",
   "metadata": {},
   "source": [
    "Perform post-hoc comparisons:"
   ]
  },
  {
   "cell_type": "code",
   "execution_count": null,
   "id": "3ca949c8",
   "metadata": {},
   "outputs": [],
   "source": [
    "# Install package\n",
    "# !pip install scikit-posthocs"
   ]
  },
  {
   "cell_type": "code",
   "execution_count": 21,
   "id": "22f08bce",
   "metadata": {
    "scrolled": true
   },
   "outputs": [
    {
     "data": {
      "text/html": [
       "<style type=\"text/css\">\n",
       "#T_be94a_row0_col0, #T_be94a_row0_col2, #T_be94a_row1_col1, #T_be94a_row2_col0, #T_be94a_row2_col2 {\n",
       "  background-color: white;\n",
       "}\n",
       "#T_be94a_row0_col1, #T_be94a_row1_col0, #T_be94a_row1_col2, #T_be94a_row2_col1 {\n",
       "  background-color: violet;\n",
       "}\n",
       "</style>\n",
       "<table id=\"T_be94a\">\n",
       "  <thead>\n",
       "    <tr>\n",
       "      <th class=\"blank level0\" >&nbsp;</th>\n",
       "      <th id=\"T_be94a_level0_col0\" class=\"col_heading level0 col0\" >only breast</th>\n",
       "      <th id=\"T_be94a_level0_col1\" class=\"col_heading level0 col1\" >only formula</th>\n",
       "      <th id=\"T_be94a_level0_col2\" class=\"col_heading level0 col2\" >both</th>\n",
       "    </tr>\n",
       "  </thead>\n",
       "  <tbody>\n",
       "    <tr>\n",
       "      <th id=\"T_be94a_level0_row0\" class=\"row_heading level0 row0\" >only breast</th>\n",
       "      <td id=\"T_be94a_row0_col0\" class=\"data row0 col0\" >1.000000</td>\n",
       "      <td id=\"T_be94a_row0_col1\" class=\"data row0 col1\" >0.000000</td>\n",
       "      <td id=\"T_be94a_row0_col2\" class=\"data row0 col2\" >0.129454</td>\n",
       "    </tr>\n",
       "    <tr>\n",
       "      <th id=\"T_be94a_level0_row1\" class=\"row_heading level0 row1\" >only formula</th>\n",
       "      <td id=\"T_be94a_row1_col0\" class=\"data row1 col0\" >0.000000</td>\n",
       "      <td id=\"T_be94a_row1_col1\" class=\"data row1 col1\" >1.000000</td>\n",
       "      <td id=\"T_be94a_row1_col2\" class=\"data row1 col2\" >0.000004</td>\n",
       "    </tr>\n",
       "    <tr>\n",
       "      <th id=\"T_be94a_level0_row2\" class=\"row_heading level0 row2\" >both</th>\n",
       "      <td id=\"T_be94a_row2_col0\" class=\"data row2 col0\" >0.129454</td>\n",
       "      <td id=\"T_be94a_row2_col1\" class=\"data row2 col1\" >0.000004</td>\n",
       "      <td id=\"T_be94a_row2_col2\" class=\"data row2 col2\" >1.000000</td>\n",
       "    </tr>\n",
       "  </tbody>\n",
       "</table>\n"
      ],
      "text/plain": [
       "<pandas.io.formats.style.Styler at 0x24373437a50>"
      ]
     },
     "execution_count": 21,
     "metadata": {},
     "output_type": "execute_result"
    }
   ],
   "source": [
    "# Pairwise T test for multiple comparisons of independent groups. May be used after a parametric ANOVA to do pairwise comparisons.\n",
    "\n",
    "import scikit_posthocs as sp\n",
    "posthoc_df= sp.posthoc_ttest([only_breast,only_formula,both], equal_var=True, p_adjust=\"bonferroni\")\n",
    "\n",
    "group_names= [\"only breast\", \"only formula\",\"both\"]\n",
    "posthoc_df.columns= group_names\n",
    "posthoc_df.index= group_names\n",
    "posthoc_df.style.applymap(lambda x: \"background-color:violet\" if x<0.05 else \"background-color: white\")"
   ]
  },
  {
   "cell_type": "code",
   "execution_count": 13,
   "id": "0bf440ca",
   "metadata": {},
   "outputs": [
    {
     "name": "stdout",
     "output_type": "stream",
     "text": [
      "Group means:\n",
      "only breast: 749.82\n",
      "only formula: 959.22\n",
      "both: 809.95\n"
     ]
    }
   ],
   "source": [
    "# Compute means for each group\n",
    "means = {\n",
    "    \"only breast\": np.mean(only_breast),\n",
    "    \"only formula\": np.mean(only_formula),\n",
    "    \"both\": np.mean(both)\n",
    "}\n",
    "\n",
    "# Calculate mean differences\n",
    "mean_diff_df = pd.DataFrame(index=group_names, columns=group_names, data=0.0)\n",
    "for i, group1 in enumerate(group_names):\n",
    "    for j, group2 in enumerate(group_names):\n",
    "        if i != j:\n",
    "            mean_diff_df.loc[group1, group2] = means[group1] - means[group2]\n",
    "\n",
    "# Combine p-values and mean differences\n",
    "combined_df = posthoc_df.copy()\n",
    "for i, group1 in enumerate(group_names):\n",
    "    for j, group2 in enumerate(group_names):\n",
    "        if i != j:\n",
    "            combined_df.loc[group1, group2] = f'p={posthoc_df.loc[group1, group2]:.3f}, diff={mean_diff_df.loc[group1, group2]:.2f}'\n",
    "\n",
    "# Display combined dataframe with conditional formatting\n",
    "styled_combined_df = combined_df.style.applymap(lambda x: \"background-color: violet\" if isinstance(x, str) and float(x.split(',')[0][2:]) < 0.05 else \"background-color: white\")\n",
    "\n",
    "# Output results\n",
    "styled_combined_df\n",
    "\n",
    "# Display the means for reference\n",
    "print(\"Group means:\")\n",
    "for group, mean in means.items():\n",
    "    print(f'{group}: {mean:.2f}')"
   ]
  },
  {
   "cell_type": "code",
   "execution_count": 14,
   "id": "6f94590c",
   "metadata": {
    "scrolled": true
   },
   "outputs": [
    {
     "data": {
      "text/html": [
       "<style type=\"text/css\">\n",
       "#T_8efb9_row0_col0, #T_8efb9_row0_col2, #T_8efb9_row1_col1, #T_8efb9_row2_col0, #T_8efb9_row2_col2 {\n",
       "  background-color: white;\n",
       "}\n",
       "#T_8efb9_row0_col1, #T_8efb9_row1_col0, #T_8efb9_row1_col2, #T_8efb9_row2_col1 {\n",
       "  background-color: violet;\n",
       "}\n",
       "</style>\n",
       "<table id=\"T_8efb9\">\n",
       "  <thead>\n",
       "    <tr>\n",
       "      <th class=\"blank level0\" >&nbsp;</th>\n",
       "      <th id=\"T_8efb9_level0_col0\" class=\"col_heading level0 col0\" >only breast</th>\n",
       "      <th id=\"T_8efb9_level0_col1\" class=\"col_heading level0 col1\" >only formula</th>\n",
       "      <th id=\"T_8efb9_level0_col2\" class=\"col_heading level0 col2\" >both</th>\n",
       "    </tr>\n",
       "  </thead>\n",
       "  <tbody>\n",
       "    <tr>\n",
       "      <th id=\"T_8efb9_level0_row0\" class=\"row_heading level0 row0\" >only breast</th>\n",
       "      <td id=\"T_8efb9_row0_col0\" class=\"data row0 col0\" >1.000000</td>\n",
       "      <td id=\"T_8efb9_row0_col1\" class=\"data row0 col1\" >p=0.000, diff=-209.39</td>\n",
       "      <td id=\"T_8efb9_row0_col2\" class=\"data row0 col2\" >p=0.129, diff=-60.13</td>\n",
       "    </tr>\n",
       "    <tr>\n",
       "      <th id=\"T_8efb9_level0_row1\" class=\"row_heading level0 row1\" >only formula</th>\n",
       "      <td id=\"T_8efb9_row1_col0\" class=\"data row1 col0\" >p=0.000, diff=209.39</td>\n",
       "      <td id=\"T_8efb9_row1_col1\" class=\"data row1 col1\" >1.000000</td>\n",
       "      <td id=\"T_8efb9_row1_col2\" class=\"data row1 col2\" >p=0.000, diff=149.26</td>\n",
       "    </tr>\n",
       "    <tr>\n",
       "      <th id=\"T_8efb9_level0_row2\" class=\"row_heading level0 row2\" >both</th>\n",
       "      <td id=\"T_8efb9_row2_col0\" class=\"data row2 col0\" >p=0.129, diff=60.13</td>\n",
       "      <td id=\"T_8efb9_row2_col1\" class=\"data row2 col1\" >p=0.000, diff=-149.26</td>\n",
       "      <td id=\"T_8efb9_row2_col2\" class=\"data row2 col2\" >1.000000</td>\n",
       "    </tr>\n",
       "  </tbody>\n",
       "</table>\n"
      ],
      "text/plain": [
       "<pandas.io.formats.style.Styler at 0x2437341b010>"
      ]
     },
     "execution_count": 14,
     "metadata": {},
     "output_type": "execute_result"
    }
   ],
   "source": [
    "styled_combined_df"
   ]
  },
  {
   "cell_type": "markdown",
   "id": "19726622",
   "metadata": {},
   "source": [
    "Therefore:  \n",
    "only formula > only breast  \n",
    "only formula > both  \n",
    "And we cannot compare between both and only breast"
   ]
  },
  {
   "cell_type": "markdown",
   "id": "8c18a35f",
   "metadata": {},
   "source": [
    "--------\n",
    "## Q2.\n",
    "\n",
    "An e-commerce company regularly advertises on YouTube, Instagram, and Facebook for its campaigns. However, the new manager was curious about if there was any difference between the number of customers attracted by these platforms. Therefore, she started to use Adjust, an application that allows you to find out where your users come from. The daily numbers reported from Adjust for each platform are as below. \n",
    "\n",
    "youtube=[1913, 1879, 1939, 2146, 2040, 2127, 2122, 2156, 2036, 1974, 1956, 2146, 2151, 1943, 2125]\n",
    "       \n",
    "instagram = [2305., 2355., 2203., 2231., 2185., 2420., 2386., 2410., 2340., 2349., 2241., 2396., 2244., 2267., 2281.]     \n",
    "       \n",
    "facebook = [2133., 2522., 2124., 2551., 2293., 2367., 2460., 2311., 2178., 2113., 2048., 2443., 2265., 2095., 2528.]          \n",
    "\n",
    "**According to this information, conduct the hypothesis testing to check whether there is a difference between the average customer acquisition of these three platforms using a 0.05 significance level. If there is a significant difference, perform further analysis to find that caused the difference. Before doing hypothesis testing, check the related assumptions. Comment on the results.** "
   ]
  },
  {
   "cell_type": "code",
   "execution_count": 23,
   "id": "9e2601e6",
   "metadata": {},
   "outputs": [],
   "source": [
    "youtube=np.array([1913, 1879, 1939, 2146, 2040, 2127, 2122, 2156, 2036, 1974, 1956,\n",
    "       2146, 2151, 1943, 2125])\n",
    "       \n",
    "instagram =  np.array([2305., 2355., 2203., 2231., 2185., 2420., 2386., 2410., 2340.,\n",
    "       2349., 2241., 2396., 2244., 2267., 2281.])\n",
    "       \n",
    "facebook = np.array([2133., 2522., 2124., 2551., 2293., 2367., 2460., 2311., 2178.,\n",
    "       2113., 2048., 2443., 2265., 2095., 2528.]) "
   ]
  },
  {
   "cell_type": "markdown",
   "id": "906f8563",
   "metadata": {},
   "source": [
    "$H_{0}$: The data is normally distributed.  \n",
    "$H_{1}$: The data is not normally distributed. "
   ]
  },
  {
   "cell_type": "code",
   "execution_count": 24,
   "id": "b5f0706f",
   "metadata": {
    "scrolled": true
   },
   "outputs": [
    {
     "name": "stdout",
     "output_type": "stream",
     "text": [
      "p value:0.0285\n",
      "Reject null hypothesis >> The data is not normally distributed\n",
      "p value:0.4156\n",
      "Fail to reject null hypothesis >> The data is normally distributed\n",
      "p value:0.1716\n",
      "Fail to reject null hypothesis >> The data is normally distributed\n"
     ]
    }
   ],
   "source": [
    "check_normality(youtube)\n",
    "check_normality(instagram)\n",
    "check_normality(facebook)"
   ]
  },
  {
   "cell_type": "markdown",
   "id": "85b8fb90",
   "metadata": {},
   "source": [
    "$H_{0}$: The variances of the samples are the same.  \n",
    "$H_{1}$: The variances of the samples are different. "
   ]
  },
  {
   "cell_type": "code",
   "execution_count": 25,
   "id": "6794b60a",
   "metadata": {},
   "outputs": [
    {
     "name": "stdout",
     "output_type": "stream",
     "text": [
      "p value:0.0012\n",
      "Reject null hypothesis >> The variances of the samples are different.\n"
     ]
    }
   ],
   "source": [
    "stat, pvalue_levene= stats.levene(youtube, instagram, facebook)\n",
    "\n",
    "print(\"p value:%.4f\" % pvalue_levene)\n",
    "if pvalue_levene <0.05:\n",
    "    print(\"Reject null hypothesis >> The variances of the samples are different.\")\n",
    "else:\n",
    "    print(\"Fail to reject null hypothesis >> The variances of the samples are same.\")"
   ]
  },
  {
   "cell_type": "markdown",
   "id": "04d06031",
   "metadata": {},
   "source": [
    "$H_{0}$: $\\mu_{1}= \\mu_{2}= \\mu_{3} $ **or** The mean of the samples are same.      \n",
    "$H_{1}$: At least one of them is different.    "
   ]
  },
  {
   "cell_type": "code",
   "execution_count": 26,
   "id": "11c2459c",
   "metadata": {
    "scrolled": true
   },
   "outputs": [
    {
     "name": "stdout",
     "output_type": "stream",
     "text": [
      "p value:0.000015\n",
      "Reject null hypothesis\n"
     ]
    }
   ],
   "source": [
    "# kruskal test: like Anova, but non-parametric (not assuming any distribution)\n",
    "F, p_value = stats.kruskal(youtube, instagram, facebook)\n",
    "print(\"p value:%.6f\" % p_value)\n",
    "if p_value <0.05:\n",
    "    print(\"Reject null hypothesis\")\n",
    "else:\n",
    "    print(\"Fail to reject null hypothesis\")"
   ]
  },
  {
   "cell_type": "markdown",
   "id": "32cb06c2",
   "metadata": {},
   "source": [
    "At this significance level, at least one of the median customer acquisition number is different.  \n",
    "Note: Since, the data is not normal, nonparametric version of posthoc test is used."
   ]
  },
  {
   "cell_type": "code",
   "execution_count": 27,
   "id": "f02d6664",
   "metadata": {},
   "outputs": [
    {
     "data": {
      "text/html": [
       "<style type=\"text/css\">\n",
       "#T_d798e_row0_col0, #T_d798e_row1_col1, #T_d798e_row1_col2, #T_d798e_row2_col1, #T_d798e_row2_col2 {\n",
       "  background-color: white;\n",
       "}\n",
       "#T_d798e_row0_col1, #T_d798e_row0_col2, #T_d798e_row1_col0, #T_d798e_row2_col0 {\n",
       "  background-color: violet;\n",
       "}\n",
       "</style>\n",
       "<table id=\"T_d798e\">\n",
       "  <thead>\n",
       "    <tr>\n",
       "      <th class=\"blank level0\" >&nbsp;</th>\n",
       "      <th id=\"T_d798e_level0_col0\" class=\"col_heading level0 col0\" >youtube</th>\n",
       "      <th id=\"T_d798e_level0_col1\" class=\"col_heading level0 col1\" >instagram</th>\n",
       "      <th id=\"T_d798e_level0_col2\" class=\"col_heading level0 col2\" >facebook</th>\n",
       "    </tr>\n",
       "  </thead>\n",
       "  <tbody>\n",
       "    <tr>\n",
       "      <th id=\"T_d798e_level0_row0\" class=\"row_heading level0 row0\" >youtube</th>\n",
       "      <td id=\"T_d798e_row0_col0\" class=\"data row0 col0\" >1.000000</td>\n",
       "      <td id=\"T_d798e_row0_col1\" class=\"data row0 col1\" >0.000010</td>\n",
       "      <td id=\"T_d798e_row0_col2\" class=\"data row0 col2\" >0.002337</td>\n",
       "    </tr>\n",
       "    <tr>\n",
       "      <th id=\"T_d798e_level0_row1\" class=\"row_heading level0 row1\" >instagram</th>\n",
       "      <td id=\"T_d798e_row1_col0\" class=\"data row1 col0\" >0.000010</td>\n",
       "      <td id=\"T_d798e_row1_col1\" class=\"data row1 col1\" >1.000000</td>\n",
       "      <td id=\"T_d798e_row1_col2\" class=\"data row1 col2\" >1.000000</td>\n",
       "    </tr>\n",
       "    <tr>\n",
       "      <th id=\"T_d798e_level0_row2\" class=\"row_heading level0 row2\" >facebook</th>\n",
       "      <td id=\"T_d798e_row2_col0\" class=\"data row2 col0\" >0.002337</td>\n",
       "      <td id=\"T_d798e_row2_col1\" class=\"data row2 col1\" >1.000000</td>\n",
       "      <td id=\"T_d798e_row2_col2\" class=\"data row2 col2\" >1.000000</td>\n",
       "    </tr>\n",
       "  </tbody>\n",
       "</table>\n"
      ],
      "text/plain": [
       "<pandas.io.formats.style.Styler at 0x243733e94d0>"
      ]
     },
     "execution_count": 27,
     "metadata": {},
     "output_type": "execute_result"
    }
   ],
   "source": [
    "# We use Mann-Whitney since the groups are independent (otherwise, use Wilcoxon)\n",
    "posthoc_df = sp.posthoc_mannwhitney([youtube,instagram, facebook], p_adjust = 'bonferroni')\n",
    "group_names= [\"youtube\", \"instagram\",\"facebook\"]\n",
    "posthoc_df.columns= group_names\n",
    "posthoc_df.index= group_names\n",
    "posthoc_df.style.applymap(lambda x: \"background-color:violet\" if x<0.05 else \"background-color: white\")"
   ]
  },
  {
   "cell_type": "code",
   "execution_count": 30,
   "id": "308f8276",
   "metadata": {
    "scrolled": true
   },
   "outputs": [
    {
     "data": {
      "text/html": [
       "<style type=\"text/css\">\n",
       "#T_161c2_row0_col0, #T_161c2_row1_col1, #T_161c2_row1_col2, #T_161c2_row2_col1, #T_161c2_row2_col2 {\n",
       "  background-color: white;\n",
       "}\n",
       "#T_161c2_row0_col1, #T_161c2_row0_col2, #T_161c2_row1_col0, #T_161c2_row2_col0 {\n",
       "  background-color: violet;\n",
       "}\n",
       "</style>\n",
       "<table id=\"T_161c2\">\n",
       "  <thead>\n",
       "    <tr>\n",
       "      <th class=\"blank level0\" >&nbsp;</th>\n",
       "      <th id=\"T_161c2_level0_col0\" class=\"col_heading level0 col0\" >youtube</th>\n",
       "      <th id=\"T_161c2_level0_col1\" class=\"col_heading level0 col1\" >instagram</th>\n",
       "      <th id=\"T_161c2_level0_col2\" class=\"col_heading level0 col2\" >facebook</th>\n",
       "    </tr>\n",
       "  </thead>\n",
       "  <tbody>\n",
       "    <tr>\n",
       "      <th id=\"T_161c2_level0_row0\" class=\"row_heading level0 row0\" >youtube</th>\n",
       "      <td id=\"T_161c2_row0_col0\" class=\"data row0 col0\" >1.000000</td>\n",
       "      <td id=\"T_161c2_row0_col1\" class=\"data row0 col1\" >p=0.000, diff=-265.00</td>\n",
       "      <td id=\"T_161c2_row0_col2\" class=\"data row0 col2\" >p=0.002, diff=-253.00</td>\n",
       "    </tr>\n",
       "    <tr>\n",
       "      <th id=\"T_161c2_level0_row1\" class=\"row_heading level0 row1\" >instagram</th>\n",
       "      <td id=\"T_161c2_row1_col0\" class=\"data row1 col0\" >p=0.000, diff=265.00</td>\n",
       "      <td id=\"T_161c2_row1_col1\" class=\"data row1 col1\" >1.000000</td>\n",
       "      <td id=\"T_161c2_row1_col2\" class=\"data row1 col2\" >p=1.000, diff=12.00</td>\n",
       "    </tr>\n",
       "    <tr>\n",
       "      <th id=\"T_161c2_level0_row2\" class=\"row_heading level0 row2\" >facebook</th>\n",
       "      <td id=\"T_161c2_row2_col0\" class=\"data row2 col0\" >p=0.002, diff=253.00</td>\n",
       "      <td id=\"T_161c2_row2_col1\" class=\"data row2 col1\" >p=1.000, diff=-12.00</td>\n",
       "      <td id=\"T_161c2_row2_col2\" class=\"data row2 col2\" >1.000000</td>\n",
       "    </tr>\n",
       "  </tbody>\n",
       "</table>\n"
      ],
      "text/plain": [
       "<pandas.io.formats.style.Styler at 0x24373435b10>"
      ]
     },
     "execution_count": 30,
     "metadata": {},
     "output_type": "execute_result"
    }
   ],
   "source": [
    "\n",
    "# Compute medians for each group\n",
    "medians = {\n",
    "    \"youtube\": np.median(youtube),\n",
    "    \"instagram\": np.median(instagram),\n",
    "    \"facebook\": np.median(facebook)\n",
    "}\n",
    "\n",
    "# Calculate median differences\n",
    "median_diff_df = pd.DataFrame(index=group_names, columns=group_names, data=0.0)\n",
    "for i, group1 in enumerate(group_names):\n",
    "    for j, group2 in enumerate(group_names):\n",
    "        if i != j:\n",
    "            median_diff_df.loc[group1, group2] = medians[group1] - medians[group2]\n",
    "\n",
    "# Combine p-values and median differences\n",
    "combined_df = posthoc_df.copy()\n",
    "for i, group1 in enumerate(group_names):\n",
    "    for j, group2 in enumerate(group_names):\n",
    "        if i != j:\n",
    "            combined_df.loc[group1, group2] = f'p={posthoc_df.loc[group1, group2]:.3f}, diff={median_diff_df.loc[group1, group2]:.2f}'\n",
    "\n",
    "# Display combined dataframe with conditional formatting\n",
    "styled_combined_df = combined_df.style.applymap(lambda x: \"background-color: violet\" if isinstance(x, str) and float(x.split(',')[0][2:]) < 0.05 else \"background-color: white\")\n",
    "\n",
    "# Output results\n",
    "styled_combined_df"
   ]
  },
  {
   "cell_type": "markdown",
   "id": "125cd198",
   "metadata": {},
   "source": [
    "Therefore:  \n",
    "We can only conclude that  \n",
    "facebook > youtube  \n",
    "instagram > youtube"
   ]
  },
  {
   "cell_type": "markdown",
   "id": "24771408",
   "metadata": {},
   "source": [
    "## Standardized Residuals Analysis for Chi-Square"
   ]
  },
  {
   "cell_type": "code",
   "execution_count": 33,
   "id": "016c4b78",
   "metadata": {},
   "outputs": [],
   "source": [
    "import numpy as np\n",
    "from scipy.stats import chisquare, norm\n",
    "\n",
    "# Example observed and expected frequencies\n",
    "observed = np.array([50, 30, 20])\n",
    "expected = np.array([40, 50, 10])"
   ]
  },
  {
   "cell_type": "code",
   "execution_count": 34,
   "id": "ee029c4c",
   "metadata": {
    "scrolled": true
   },
   "outputs": [
    {
     "name": "stdout",
     "output_type": "stream",
     "text": [
      "Chi-squared Statistic: 20.5, p-value: 3.535750085040998e-05\n"
     ]
    }
   ],
   "source": [
    "# Step 1: Perform the chi-squared goodness-of-fit test\n",
    "chi2_stat, p_value = chisquare(observed, expected)\n",
    "print(f'Chi-squared Statistic: {chi2_stat}, p-value: {p_value}')"
   ]
  },
  {
   "cell_type": "markdown",
   "id": "754addd3",
   "metadata": {},
   "source": [
    "With significance, at least one expected value is incorrect. Which ones?"
   ]
  },
  {
   "cell_type": "markdown",
   "id": "d13e33b6",
   "metadata": {},
   "source": [
    "**We want to check which categories contributed to our significance result**"
   ]
  },
  {
   "cell_type": "code",
   "execution_count": 35,
   "id": "067d234b",
   "metadata": {},
   "outputs": [
    {
     "name": "stdout",
     "output_type": "stream",
     "text": [
      "Standardized Residuals: [ 1.58113883 -2.82842712  3.16227766]\n"
     ]
    }
   ],
   "source": [
    "# Step 2: Calculate standardized residuals\n",
    "standardized_residuals = (observed - expected) / np.sqrt(expected)\n",
    "print(\"Standardized Residuals:\", standardized_residuals)"
   ]
  },
  {
   "cell_type": "code",
   "execution_count": 36,
   "id": "c8fd6325",
   "metadata": {},
   "outputs": [],
   "source": [
    "# Step 3: Perform z-tests on standardized residuals\n",
    "z_scores = standardized_residuals\n",
    "p_values = 2 * (1 - norm.cdf(np.abs(z_scores)))  # Two-tailed test\n",
    "significance = p_values < 0.05  # Assuming alpha = 0.05"
   ]
  },
  {
   "cell_type": "code",
   "execution_count": 38,
   "id": "09177faf",
   "metadata": {
    "scrolled": true
   },
   "outputs": [
    {
     "name": "stdout",
     "output_type": "stream",
     "text": [
      "Category 0: residual = 1.58, p-value = 0.114, significant = False\n",
      "Category 1: residual = -2.83, p-value = 0.005, significant = True\n",
      "Category 2: residual = 3.16, p-value = 0.002, significant = True\n"
     ]
    }
   ],
   "source": [
    "# Output results for each category\n",
    "for i, (z, p, sig) in enumerate(zip(standardized_residuals, p_values, significance)):\n",
    "    print(f'Category {i}: residual = {z:.2f}, p-value = {p:.3f}, significant = {sig}')"
   ]
  },
  {
   "cell_type": "markdown",
   "id": "390be6f0",
   "metadata": {},
   "source": [
    "This means that categories 1 and 2 contributed to our significance result.  \n",
    "In Category 1 the residual is negative and p-value is significant,  \n",
    "therefore, we expect to have more observations than the given expected value of 40.  \n",
    "  \n",
    "In Category 2 the resisual is positive and p-value is significant,  \n",
    "therefore, we expect to have less observations than the given expected value of 20."
   ]
  },
  {
   "cell_type": "markdown",
   "id": "3a5d618c",
   "metadata": {},
   "source": [
    "## Correlations"
   ]
  },
  {
   "cell_type": "markdown",
   "id": "a8a3871b",
   "metadata": {},
   "source": [
    "### Pearson correlation coefficient"
   ]
  },
  {
   "cell_type": "markdown",
   "id": "b40b29f3",
   "metadata": {},
   "source": [
    "**Pearson Correlation Coefficient: Measures the linear relationship between x and y.**  \n",
    "  \n",
    "**Pearson p-value: Tests the null hypothesis that there is no linear relationship between x and y  \n",
    "and assumes normaility**"
   ]
  },
  {
   "cell_type": "code",
   "execution_count": 40,
   "id": "797b9cc3",
   "metadata": {},
   "outputs": [
    {
     "name": "stdout",
     "output_type": "stream",
     "text": [
      "Pearson correlation coefficient: 0.981\n",
      "Significance (p-value): 0.000\n"
     ]
    }
   ],
   "source": [
    "import numpy as np\n",
    "from scipy.stats import pearsonr\n",
    "\n",
    "# Example data\n",
    "np.random.seed(42)\n",
    "x = np.random.rand(100)  # Random data for variable x\n",
    "y = 0.5 * x + np.random.rand(100) * 0.1  # Random data for variable y, linearly related to x\n",
    "\n",
    "# Calculate Pearson correlation coefficient and p-value\n",
    "corr_coefficient, p_value = pearsonr(x, y)\n",
    "\n",
    "print(f'Pearson correlation coefficient: {corr_coefficient:.3f}')\n",
    "print(f'Significance (p-value): {p_value:.3f}')"
   ]
  },
  {
   "cell_type": "markdown",
   "id": "1900a30f",
   "metadata": {},
   "source": [
    "**Spearman Correlation Coefficient: Measures the monotonic relationship between x and y, useful if data are not normally distributed.**  \n",
    "  \n",
    "**Spearman p-value: Tests the null hypothesis that there is no monotonic relationship between x and y.**"
   ]
  },
  {
   "cell_type": "code",
   "execution_count": 42,
   "id": "52c7f44f",
   "metadata": {
    "scrolled": true
   },
   "outputs": [
    {
     "name": "stdout",
     "output_type": "stream",
     "text": [
      "Spearman correlation coefficient: 0.980\n",
      "Significance (p-value): 0.000\n"
     ]
    }
   ],
   "source": [
    "from scipy.stats import spearmanr\n",
    "\n",
    "# Calculate Spearman correlation coefficient and p-value\n",
    "spearman_corr, spearman_p_value = spearmanr(x, y)\n",
    "\n",
    "print(f'Spearman correlation coefficient: {spearman_corr:.3f}')\n",
    "print(f'Significance (p-value): {spearman_p_value:.3f}')"
   ]
  },
  {
   "cell_type": "markdown",
   "id": "bd2d15a5",
   "metadata": {},
   "source": [
    "### Linear Regression"
   ]
  },
  {
   "cell_type": "markdown",
   "id": "2112f1e4",
   "metadata": {},
   "source": [
    "#### Data generation"
   ]
  },
  {
   "cell_type": "markdown",
   "id": "5dc4c08f",
   "metadata": {},
   "source": [
    "$$Y = 3 \\cdot X + 4 + \\epsilon \\\\ \\epsilon \\sim  \\mathcal{N}(0,1)$$"
   ]
  },
  {
   "cell_type": "code",
   "execution_count": 62,
   "id": "28547c3a",
   "metadata": {},
   "outputs": [],
   "source": [
    "X = 2 * np.random.rand(100, 1)\n",
    "y = 4 + 3 * X + np.random.randn(100, 1)\n",
    "\n",
    "X_test = 2 * np.random.rand(30, 1)\n",
    "y_test = 4 + 3 * X_test + np.random.randn(30, 1)"
   ]
  },
  {
   "cell_type": "code",
   "execution_count": 63,
   "id": "73d32ace",
   "metadata": {},
   "outputs": [
    {
     "data": {
      "text/plain": [
       "(array([4.07947894]), array([[3.11742503]]))"
      ]
     },
     "execution_count": 63,
     "metadata": {},
     "output_type": "execute_result"
    }
   ],
   "source": [
    "from sklearn.linear_model import LinearRegression\n",
    "# include intercept\n",
    "lin_reg = LinearRegression()\n",
    "lin_reg.fit(X, y)\n",
    "lin_reg.intercept_, lin_reg.coef_"
   ]
  },
  {
   "cell_type": "code",
   "execution_count": 64,
   "id": "945dadc6",
   "metadata": {},
   "outputs": [
    {
     "data": {
      "text/plain": [
       "'prediction: 5.636121533816815 actual: 4.665652480050887'"
      ]
     },
     "execution_count": 64,
     "metadata": {},
     "output_type": "execute_result"
    }
   ],
   "source": [
    "# predictions\n",
    "f'prediction: {lin_reg.predict(X[:1,:])[0][0]} actual: {y[:1][0][0]}'"
   ]
  },
  {
   "cell_type": "code",
   "execution_count": 65,
   "id": "e2489541",
   "metadata": {},
   "outputs": [
    {
     "data": {
      "text/plain": [
       "<matplotlib.legend.Legend at 0x24379f56090>"
      ]
     },
     "execution_count": 65,
     "metadata": {},
     "output_type": "execute_result"
    },
    {
     "data": {
      "image/png": "[encoded data removed]",
      "text/plain": [
       "<Figure size 640x480 with 1 Axes>"
      ]
     },
     "metadata": {},
     "output_type": "display_data"
    }
   ],
   "source": [
    "plt.scatter(X, y, label='Train data')\n",
    "plt.scatter(X_test, y_test, label='Test data')\n",
    "plt.plot(X_test, lin_reg.predict(X_test), label='Model trained on test', color='g')\n",
    "plt.xlabel('X')\n",
    "plt.ylabel('y')\n",
    "plt.legend()"
   ]
  },
  {
   "cell_type": "code",
   "execution_count": 66,
   "id": "bcbb7df9",
   "metadata": {},
   "outputs": [
    {
     "name": "stdout",
     "output_type": "stream",
     "text": [
      "\n",
      "    train R2: 0.8109532873272212\n",
      "    test R2: 0.7092204768131307\n",
      "\n"
     ]
    }
   ],
   "source": [
    "from sklearn.metrics import r2_score\n",
    "\n",
    "train_predictions = lin_reg.predict(X)\n",
    "test_predictions =  lin_reg.predict(X_test)\n",
    "\n",
    "train_r2 = r2_score(y_true=y,y_pred=train_predictions)\n",
    "r2 = r2_score(y_true=y_test,y_pred=test_predictions)\n",
    "print(f\"\"\"\n",
    "    train R2: {train_r2}\n",
    "    test R2: {r2}\n",
    "\"\"\")"
   ]
  },
  {
   "cell_type": "markdown",
   "id": "db15772a",
   "metadata": {},
   "source": [
    "### Logistic Regression"
   ]
  },
  {
   "cell_type": "code",
   "execution_count": 67,
   "id": "99ddc0e4",
   "metadata": {},
   "outputs": [],
   "source": [
    "import numpy as np\n",
    "import matplotlib\n",
    "import matplotlib.pyplot as plt\n",
    "import seaborn as sns\n",
    "import os\n",
    "# inline plot \n",
    "%matplotlib inline  \n",
    "# default figure size \n",
    "matplotlib.rcParams['figure.figsize'] = (20, 10)\n",
    "# to make our sets reproducible \n",
    "np.random.seed(42) "
   ]
  },
  {
   "cell_type": "code",
   "execution_count": 69,
   "id": "1d2f7869",
   "metadata": {},
   "outputs": [],
   "source": [
    "from sklearn.datasets import load_digits\n",
    "digits = load_digits()"
   ]
  },
  {
   "cell_type": "code",
   "execution_count": 70,
   "id": "b5447f76",
   "metadata": {
    "scrolled": true
   },
   "outputs": [
    {
     "data": {
      "image/png": "[encoded data removed]",
      "text/plain": [
       "<Figure size 2000x400 with 5 Axes>"
      ]
     },
     "metadata": {},
     "output_type": "display_data"
    }
   ],
   "source": [
    "plt.figure(figsize=(20,4))\n",
    "for index, (image, label) in enumerate(zip(digits.data[0:5], \n",
    "                                           digits.target[0:5])):\n",
    "    plt.subplot(1, 5, index + 1)\n",
    "    plt.imshow(np.reshape(image, (8,8)), cmap=plt.cm.gray)\n",
    "    plt.title('Training: %i\\n' % label, fontsize = 20);"
   ]
  },
  {
   "cell_type": "code",
   "execution_count": 71,
   "id": "f8b23d22",
   "metadata": {},
   "outputs": [],
   "source": [
    "from sklearn.model_selection import train_test_split\n",
    "X_train, X_test, y_train, y_test = train_test_split(digits.data, \n",
    "                                                    digits.target,\n",
    "                                                   test_size=0.25,\n",
    "                                                   random_state=0)"
   ]
  },
  {
   "cell_type": "code",
   "execution_count": 72,
   "id": "051b93a2",
   "metadata": {},
   "outputs": [
    {
     "data": {
      "text/plain": [
       "(1347, 64)"
      ]
     },
     "execution_count": 72,
     "metadata": {},
     "output_type": "execute_result"
    }
   ],
   "source": [
    "X_train.shape"
   ]
  },
  {
   "cell_type": "code",
   "execution_count": 78,
   "id": "a6d9f988",
   "metadata": {},
   "outputs": [],
   "source": [
    "from sklearn.linear_model import LogisticRegression\n",
    "clf = LogisticRegression(fit_intercept=True,\n",
    "                        multi_class='auto',\n",
    "                        penalty='l2', #ridge regression\n",
    "                        solver='saga',\n",
    "                        max_iter=10000,\n",
    "                        C=50)"
   ]
  },
  {
   "cell_type": "code",
   "execution_count": 80,
   "id": "65c1973e",
   "metadata": {},
   "outputs": [
    {
     "data": {
      "text/html": [
       "<style>#sk-container-id-2 {color: black;}#sk-container-id-2 pre{padding: 0;}#sk-container-id-2 div.sk-toggleable {background-color: white;}#sk-container-id-2 label.sk-toggleable__label {cursor: pointer;display: block;width: 100%;margin-bottom: 0;padding: 0.3em;box-sizing: border-box;text-align: center;}#sk-container-id-2 label.sk-toggleable__label-arrow:before {content: \"▸\";float: left;margin-right: 0.25em;color: #696969;}#sk-container-id-2 label.sk-toggleable__label-arrow:hover:before {color: black;}#sk-container-id-2 div.sk-estimator:hover label.sk-toggleable__label-arrow:before {color: black;}#sk-container-id-2 div.sk-toggleable__content {max-height: 0;max-width: 0;overflow: hidden;text-align: left;background-color: #f0f8ff;}#sk-container-id-2 div.sk-toggleable__content pre {margin: 0.2em;color: black;border-radius: 0.25em;background-color: #f0f8ff;}#sk-container-id-2 input.sk-toggleable__control:checked~div.sk-toggleable__content {max-height: 200px;max-width: 100%;overflow: auto;}#sk-container-id-2 input.sk-toggleable__control:checked~label.sk-toggleable__label-arrow:before {content: \"▾\";}#sk-container-id-2 div.sk-estimator input.sk-toggleable__control:checked~label.sk-toggleable__label {background-color: #d4ebff;}#sk-container-id-2 div.sk-label input.sk-toggleable__control:checked~label.sk-toggleable__label {background-color: #d4ebff;}#sk-container-id-2 input.sk-hidden--visually {border: 0;clip: rect(1px 1px 1px 1px);clip: rect(1px, 1px, 1px, 1px);height: 1px;margin: -1px;overflow: hidden;padding: 0;position: absolute;width: 1px;}#sk-container-id-2 div.sk-estimator {font-family: monospace;background-color: #f0f8ff;border: 1px dotted black;border-radius: 0.25em;box-sizing: border-box;margin-bottom: 0.5em;}#sk-container-id-2 div.sk-estimator:hover {background-color: #d4ebff;}#sk-container-id-2 div.sk-parallel-item::after {content: \"\";width: 100%;border-bottom: 1px solid gray;flex-grow: 1;}#sk-container-id-2 div.sk-label:hover label.sk-toggleable__label {background-color: #d4ebff;}#sk-container-id-2 div.sk-serial::before {content: \"\";position: absolute;border-left: 1px solid gray;box-sizing: border-box;top: 0;bottom: 0;left: 50%;z-index: 0;}#sk-container-id-2 div.sk-serial {display: flex;flex-direction: column;align-items: center;background-color: white;padding-right: 0.2em;padding-left: 0.2em;position: relative;}#sk-container-id-2 div.sk-item {position: relative;z-index: 1;}#sk-container-id-2 div.sk-parallel {display: flex;align-items: stretch;justify-content: center;background-color: white;position: relative;}#sk-container-id-2 div.sk-item::before, #sk-container-id-2 div.sk-parallel-item::before {content: \"\";position: absolute;border-left: 1px solid gray;box-sizing: border-box;top: 0;bottom: 0;left: 50%;z-index: -1;}#sk-container-id-2 div.sk-parallel-item {display: flex;flex-direction: column;z-index: 1;position: relative;background-color: white;}#sk-container-id-2 div.sk-parallel-item:first-child::after {align-self: flex-end;width: 50%;}#sk-container-id-2 div.sk-parallel-item:last-child::after {align-self: flex-start;width: 50%;}#sk-container-id-2 div.sk-parallel-item:only-child::after {width: 0;}#sk-container-id-2 div.sk-dashed-wrapped {border: 1px dashed gray;margin: 0 0.4em 0.5em 0.4em;box-sizing: border-box;padding-bottom: 0.4em;background-color: white;}#sk-container-id-2 div.sk-label label {font-family: monospace;font-weight: bold;display: inline-block;line-height: 1.2em;}#sk-container-id-2 div.sk-label-container {text-align: center;}#sk-container-id-2 div.sk-container {/* jupyter's `normalize.less` sets `[hidden] { display: none; }` but bootstrap.min.css set `[hidden] { display: none !important; }` so we also need the `!important` here to be able to override the default hidden behavior on the sphinx rendered scikit-learn.org. See: https://github.com/scikit-learn/scikit-learn/issues/21755 */display: inline-block !important;position: relative;}#sk-container-id-2 div.sk-text-repr-fallback {display: none;}</style><div id=\"sk-container-id-2\" class=\"sk-top-container\"><div class=\"sk-text-repr-fallback\"><pre>LogisticRegression(C=50, max_iter=10000, solver=&#x27;saga&#x27;)</pre><b>In a Jupyter environment, please rerun this cell to show the HTML representation or trust the notebook. <br />On GitHub, the HTML representation is unable to render, please try loading this page with nbviewer.org.</b></div><div class=\"sk-container\" hidden><div class=\"sk-item\"><div class=\"sk-estimator sk-toggleable\"><input class=\"sk-toggleable__control sk-hidden--visually\" id=\"sk-estimator-id-2\" type=\"checkbox\" checked><label for=\"sk-estimator-id-2\" class=\"sk-toggleable__label sk-toggleable__label-arrow\">LogisticRegression</label><div class=\"sk-toggleable__content\"><pre>LogisticRegression(C=50, max_iter=10000, solver=&#x27;saga&#x27;)</pre></div></div></div></div></div>"
      ],
      "text/plain": [
       "LogisticRegression(C=50, max_iter=10000, solver='saga')"
      ]
     },
     "execution_count": 80,
     "metadata": {},
     "output_type": "execute_result"
    }
   ],
   "source": [
    "clf.fit(X_train, y_train)"
   ]
  },
  {
   "cell_type": "code",
   "execution_count": 81,
   "id": "baed311a",
   "metadata": {},
   "outputs": [
    {
     "data": {
      "text/plain": [
       "array([0, 1, 2, 3, 4, 5, 6, 7, 8, 9])"
      ]
     },
     "execution_count": 81,
     "metadata": {},
     "output_type": "execute_result"
    }
   ],
   "source": [
    "clf.classes_"
   ]
  },
  {
   "cell_type": "code",
   "execution_count": 85,
   "id": "bd4abdbe",
   "metadata": {},
   "outputs": [],
   "source": [
    "y_pred = clf.predict(X_test)"
   ]
  },
  {
   "cell_type": "code",
   "execution_count": 86,
   "id": "321e7cf8",
   "metadata": {},
   "outputs": [
    {
     "name": "stdout",
     "output_type": "stream",
     "text": [
      "Accuracy in test data is: 0.9533333333333334\n"
     ]
    }
   ],
   "source": [
    "# Calculate accuracy\n",
    "from sklearn.metrics import accuracy_score\n",
    "acc = accuracy_score(y_test, y_pred)\n",
    "print(f\"Accuracy in test data is: {acc}\")"
   ]
  }
 ],
 "metadata": {
  "kernelspec": {
   "display_name": "Python 3 (ipykernel)",
   "language": "python",
   "name": "python3"
  },
  "language_info": {
   "codemirror_mode": {
    "name": "ipython",
    "version": 3
   },
   "file_extension": ".py",
   "mimetype": "text/x-python",
   "name": "python",
   "nbconvert_exporter": "python",
   "pygments_lexer": "ipython3",
   "version": "3.11.5"
  }
 },
 "nbformat": 4,
 "nbformat_minor": 5
}
