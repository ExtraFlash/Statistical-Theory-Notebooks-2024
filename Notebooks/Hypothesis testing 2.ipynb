{
 "cells": [
  {
   "cell_type": "markdown",
   "id": "6a9abdfe",
   "metadata": {},
   "source": [
    "# Hypothesis Testing 2"
   ]
  },
  {
   "cell_type": "markdown",
   "id": "abbf7f50",
   "metadata": {},
   "source": [
    "Shamelessly stolen from:  \n",
    "https://github.com/eceisik/eip/blob/main/hypothesis_testing_examples.ipynb"
   ]
  },
  {
   "cell_type": "code",
   "execution_count": 2,
   "id": "ea1027d1",
   "metadata": {},
   "outputs": [],
   "source": [
    "import numpy as np\n",
    "from scipy import stats\n",
    "import seaborn as sns\n",
    "from matplotlib import pyplot as plt\n",
    "import pandas as pd\n",
    "pd.options.display.float_format = '{:,.4f}'.format"
   ]
  },
  {
   "cell_type": "code",
   "execution_count": 3,
   "id": "0d84c9ab",
   "metadata": {},
   "outputs": [],
   "source": [
    "def check_normality(data, threshold=30):\n",
    "    \"\"\"\n",
    "    Perform a normality test using the Shapiro-Wilk test for small samples\n",
    "    and the Kolmogorov-Smirnov test for larger samples.\n",
    "\n",
    "    Parameters:\n",
    "    data (list or array-like): The sample data to test for normality.\n",
    "    threshold (int): The sample size threshold to switch between tests. Default is 30.\n",
    "\n",
    "    Returns:\n",
    "    test_name (str): The name of the test performed.\n",
    "    statistic (float): The test statistic.\n",
    "    p_value (float): The p-value of the test.\n",
    "    \"\"\"\n",
    "    \n",
    "    n = len(data)\n",
    "    \n",
    "    if n <= threshold:\n",
    "        test_name = \"Shapiro-Wilk\"\n",
    "        statistic, p_value = stats.shapiro(data)\n",
    "    else:\n",
    "        test_name = \"Kolmogorov-Smirnov\"\n",
    "        statistic, p_value = stats.kstest(data, 'norm', args=(np.mean(data), np.std(data)))\n",
    "    \n",
    "    print(\"p value:%.4f\" % p_value)\n",
    "    if p_value <0.05:\n",
    "        print(\"Reject null hypothesis >> The data is not normally distributed\")\n",
    "    else:\n",
    "        print(\"Fail to reject null hypothesis >> The data is normally distributed\") "
   ]
  },
  {
   "cell_type": "code",
   "execution_count": 4,
   "id": "d5a2d18a",
   "metadata": {},
   "outputs": [],
   "source": [
    "def check_variance_homogeneity(group1, group2):\n",
    "    test_stat, p_val = stats.levene(group1, group2)\n",
    "    print(\"p value:%.4f\" % p_val)\n",
    "    if p_val <0.05:\n",
    "        print(\"Reject null hypothesis >> The variances of the samples are different.\")\n",
    "    else:\n",
    "        print(\"Fail to reject null hypothesis >> The variances of the samples are same.\")"
   ]
  },
  {
   "cell_type": "markdown",
   "id": "3de25ee6",
   "metadata": {},
   "source": [
    "-------\n",
    "## Q1.\n",
    "A human resource specialist working in a technology company is interested in the overwork time of different teams. To investigate whether there is a difference between overtime of the software development team and the test team, she selected 17 employees randomly in each of the two teams and recorded their weekly average overwork time in terms of an hour. The data is below.   \n",
    "\n",
    "test_team=[6.2,  7.1,  1.5,  2,3 ,  2,  1.5,  6.1,  2.4,  2.3, 12.4,  1.8,  5.3,  3.1, 9.4,  2.3, 4.1]    \n",
    "software_team=[2.3,  2.1,  1.4,  2.0, 8.7,  2.2,  3.1,  4.2,  3.6, 2.5,  3.1,  6.2, 12.1,  3.9,  2.2, 1.2 ,3.4]\n",
    "\n",
    "**According to this information, conduct the hypothesis testing to check whether there is a difference between the overwork time of two teams by using a 0.05 significance level. Before doing hypothesis testing, check the related assumptions. Comment on the results**"
   ]
  },
  {
   "cell_type": "code",
   "execution_count": 5,
   "id": "624cd93b",
   "metadata": {},
   "outputs": [],
   "source": [
    "test_team=np.array([6.2,  7.1,  1.5,  2,3 ,  2,  1.5,  6.1,  2.4,  2.3, 12.4,  1.8,  5.3,  3.1, 9.4,  2.3, 4.1])\n",
    "developer_team=np.array([2.3,  2.1,  1.4,  2.0, 8.7,  2.2,  3.1,  4.2,  3.6, 2.5,  3.1,  6.2, 12.1,  3.9,  2.2, 1.2 ,3.4])"
   ]
  },
  {
   "cell_type": "markdown",
   "id": "22b3136e",
   "metadata": {},
   "source": [
    "$ H_{0} $: The data is normally distributed.  \n",
    "$ H_{1} $: The data is not normally distributed. "
   ]
  },
  {
   "cell_type": "code",
   "execution_count": 7,
   "id": "9da1d61f",
   "metadata": {
    "scrolled": true
   },
   "outputs": [
    {
     "name": "stdout",
     "output_type": "stream",
     "text": [
      "p value:0.0046\n",
      "Reject null hypothesis >> The data is not normally distributed\n",
      "p value:0.0005\n",
      "Reject null hypothesis >> The data is not normally distributed\n"
     ]
    }
   ],
   "source": [
    "check_normality(test_team)\n",
    "check_normality(developer_team)"
   ]
  },
  {
   "cell_type": "markdown",
   "id": "a7b6985a",
   "metadata": {},
   "source": [
    "Groups are independent -> Perform Mann-Whitney"
   ]
  },
  {
   "cell_type": "markdown",
   "id": "78b6cc7c",
   "metadata": {},
   "source": [
    "Formally <br>\n",
    "$H_0$: $P(X>Y)=0.5$ <br>\n",
    "Where $X$ and $Y$ are random variables representing observations from the two groups.\n",
    "\n",
    "Another way to understand: <br>\n",
    "$H_0$: The two groups come from the same distribution (no difference in medians or distribution shapes). <br>\n",
    "$H_1$: The two groups come from different distributions (difference in medians or distribution shapes)."
   ]
  },
  {
   "cell_type": "code",
   "execution_count": 10,
   "id": "04539024",
   "metadata": {},
   "outputs": [
    {
     "name": "stdout",
     "output_type": "stream",
     "text": [
      "p-value:0.8226\n",
      "Fail to recejt null hypothesis\n"
     ]
    }
   ],
   "source": [
    "statistic, p_value = stats.mannwhitneyu(test_team,developer_team, alternative=\"two-sided\")\n",
    "print(\"p-value:%.4f\" % p_value)\n",
    "if p_value <0.05:\n",
    "    print(\"Reject null hypothesis\")\n",
    "else:\n",
    "    print(\"Fail to reject null hypothesis\")"
   ]
  },
  {
   "cell_type": "markdown",
   "id": "0f448424",
   "metadata": {},
   "source": [
    "At this significance level, it can be said that there is no statistically significant difference between the average overwork time of the two teams."
   ]
  },
  {
   "cell_type": "markdown",
   "id": "cda13a38",
   "metadata": {},
   "source": [
    "## Q2.\n",
    "A venture capitalist wanted to invest in a startup that provides data compression without any loss in quality, but there are two competitors: PiedPiper and EndFrame. Initially, she believed the performance of the EndFrame could be better but still wanted to test it before the investment. Then, she gave the same files to each company to compress and recorded their performance scores. The data is below.    \n",
    "    \n",
    "piedpiper=[4.57, 4.55, 5.47, 4.67, 5.41, 5.55, 5.53, 5.63, 3.86, 3.97, 5.44, 3.93, 5.31, 5.17, 4.39, 4.28, 5.25]     \n",
    "endframe = [4.27, 3.93, 4.01, 4.07, 3.87, 4.  , 4.  , 3.72, 4.16, 4.1 , 3.9 , 3.97, 4.08, 3.96, 3.96, 3.77, 4.09]  \n",
    "**According to this information, conduct the related hypothesis testing by using a 0.05 significance level. Before doing hypothesis testing, check the related assumptions. Comment on the results.**"
   ]
  },
  {
   "cell_type": "markdown",
   "id": "3e48d679",
   "metadata": {},
   "source": [
    "## Assumptions\n",
    "• Data can be ranked    \n",
    "• The observations are independent of one another  \n",
    "• The dependent variable should be approximately normally distributed"
   ]
  },
  {
   "cell_type": "markdown",
   "id": "7168f983",
   "metadata": {},
   "source": [
    "$H_{0}$: The data is normally distributed.  \n",
    "$H_{1}$: The data is not normally distributed.   \n",
    "Assume that alpha=0.05 If p-value is >0.05, it can be said that data is normality distributed."
   ]
  },
  {
   "cell_type": "code",
   "execution_count": 11,
   "id": "0841210e",
   "metadata": {
    "scrolled": true
   },
   "outputs": [
    {
     "name": "stdout",
     "output_type": "stream",
     "text": [
      "p value:0.0304\n",
      "Reject null hypothesis >> The data is not normally distributed\n",
      "p value:0.9587\n",
      "Fail to reject null hypothesis >> The data is normally distributed\n"
     ]
    }
   ],
   "source": [
    "piedpiper=np.array([4.57, 4.55, 5.47, 4.67, 5.41, 5.55, 5.53, 5.63, 3.86, 3.97, 5.44, 3.93, 5.31, 5.17, 4.39, 4.28, 5.25])\n",
    "endframe = np.array([4.27, 3.93, 4.01, 4.07, 3.87, 4.  , 4.  , 3.72, 4.16, 4.1 , 3.9 , 3.97, 4.08, 3.96, 3.96, 3.77, 4.09])\n",
    "check_normality(piedpiper)\n",
    "check_normality(endframe)"
   ]
  },
  {
   "cell_type": "markdown",
   "id": "810fdeed",
   "metadata": {},
   "source": [
    "$H_{0}$: $\\theta_{d} >= 0 $ \n",
    "where $\\theta_d$ represents the population median of the differences between paired observations.  \n",
    "This means the median of the differences is zero or greater, implying no significant difference.    \n",
    "  \n",
    "$H_{1}$: $\\theta_{d} < 0 $ **or**  The true mean difference is smaller than zero.  \n",
    "This suggests that the median of the differences is negative, indicating that one group tends to have larger values than the other."
   ]
  },
  {
   "cell_type": "code",
   "execution_count": 16,
   "id": "091d4435",
   "metadata": {},
   "outputs": [
    {
     "name": "stdout",
     "output_type": "stream",
     "text": [
      "p-value:0.000214 >> one_tailed_pval:0.000107\n",
      "one sided pvalue:0.000107\n",
      "Reject null hypothesis\n"
     ]
    }
   ],
   "source": [
    "test,pvalue = stats.wilcoxon(endframe,piedpiper) ## alternative default two sided\n",
    "print(\"p-value:%.6f\" %pvalue, \">> one_tailed_pval:%.6f\" %(pvalue/2))\n",
    "\n",
    "test,one_sided_pvalue = stats.wilcoxon(endframe, piedpiper, alternative=\"less\")\n",
    "print(\"one sided pvalue:%.6f\" %(one_sided_pvalue))\n",
    "if pvalue <0.05:\n",
    "    print(\"Reject null hypothesis\")\n",
    "else:\n",
    "    print(\"Fail to reject null hypothesis\")"
   ]
  },
  {
   "cell_type": "markdown",
   "id": "98402abb",
   "metadata": {},
   "source": [
    "Therefore with statistical significance of 0.05 we can say that the median of endframe is less than the median of piedpiper."
   ]
  }
 ],
 "metadata": {
  "kernelspec": {
   "display_name": "Python 3 (ipykernel)",
   "language": "python",
   "name": "python3"
  },
  "language_info": {
   "codemirror_mode": {
    "name": "ipython",
    "version": 3
   },
   "file_extension": ".py",
   "mimetype": "text/x-python",
   "name": "python",
   "nbconvert_exporter": "python",
   "pygments_lexer": "ipython3",
   "version": "3.11.5"
  }
 },
 "nbformat": 4,
 "nbformat_minor": 5
}
